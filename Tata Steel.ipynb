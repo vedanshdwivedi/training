{
 "cells": [
  {
   "cell_type": "code",
   "execution_count": 1,
   "metadata": {},
   "outputs": [],
   "source": [
    "import numpy as np\n",
    "import matplotlib.pyplot as plt\n",
    "#x,wi,t,e = 2,0.5,4,0.1\n",
    "def percep_train(x,t,wi,e):\n",
    "    error = np.Inf\n",
    "    iterval = -1\n",
    "    for i in range(0,200):\n",
    "        c = wi*x\n",
    "        resid = abs(t-c)\n",
    "        if(error > resid):\n",
    "            error = resid\n",
    "            iterval = i\n",
    "             #update weights\n",
    "            d=(t-c)*x\n",
    "            #print(d)\n",
    "            d=e*d\n",
    "            wi=wi+d\n",
    "#         threshold = 0.1\n",
    "#         if c<=(t+threshold) and c >=(t-threshold):\n",
    "            #print(\"Target Value Achieved, no error\")\n",
    "        else:\n",
    "            break\n",
    "    \n",
    "    return wi,c,i+1"
   ]
  },
  {
   "cell_type": "code",
   "execution_count": 2,
   "metadata": {},
   "outputs": [
    {
     "name": "stdout",
     "output_type": "stream",
     "text": [
      "0 sq - 0.0 nd wt is 0.0 with iteration 2\n",
      "1 sq - 0.8646669950929678 nd wt is 0.8660203251420382 with iteration 200\n",
      "2 sq - 3.9988141346863775 nd wt is 1.9994307846494612 with iteration 200\n",
      "3 sq - 8.999999936396708 nd wt is 2.9999999807070012 with iteration 200\n",
      "4 sq - 15.999999999999986 nd wt is 3.999999999999997 with iteration 200\n",
      "5 sq - 24.999999999999993 nd wt is 4.999999999999998 with iteration 125\n",
      "6 sq - 35.999999999999986 nd wt is 5.999999999999998 with iteration 81\n",
      "7 sq - 49.0 nd wt is 7.0 with iteration 57\n",
      "8 sq - 64.0 nd wt is 8.0 with iteration 39\n",
      "9 sq - 81.0 nd wt is 9.0 with iteration 25\n",
      "10 sq - 100.0 nd wt is 10.0 with iteration 3\n"
     ]
    }
   ],
   "source": [
    "a = []\n",
    "b = []\n",
    "for i in range(0,11):\n",
    "    x=percep_train(i,i**2,0.0,0.01)\n",
    "    a.append(x)\n",
    "    print(\"{} sq - {} nd wt is {} with iteration {}\".format(i,a[i][1],a[i][0],a[i][2]))\n",
    "    b.append((i,x[0])) #b will be used to calculate and plot graph of input vs weights"
   ]
  },
  {
   "cell_type": "code",
   "execution_count": 5,
   "metadata": {},
   "outputs": [
    {
     "name": "stdout",
     "output_type": "stream",
     "text": [
      " \n",
      "1.005 x - 0.03667\n"
     ]
    },
    {
     "data": {
      "image/png": "[encoded data removed]",
      "text/plain": [
       "<Figure size 432x288 with 1 Axes>"
      ]
     },
     "metadata": {
      "needs_background": "light"
     },
     "output_type": "display_data"
    }
   ],
   "source": [
    "points = np.array(b)\n",
    "# get x and y vectors\n",
    "x = points[:,0]\n",
    "y = points[:,1]\n",
    "\n",
    "# calculate polynomial\n",
    "z = np.polyfit(x, y, 1)\n",
    "f = np.poly1d(z)\n",
    "print(f)\n",
    "\n",
    "# calculate new x's and y's\n",
    "x_new = np.linspace(x[0], x[-1], 50)\n",
    "y_new = f(x_new)\n",
    "\n",
    "plt.plot(x,y,'o', x_new, y_new)\n",
    "plt.xlim([x[0]-1, x[-1] + 1 ])\n",
    "plt.show()"
   ]
  },
  {
   "cell_type": "code",
   "execution_count": 9,
   "metadata": {},
   "outputs": [
    {
     "name": "stdout",
     "output_type": "stream",
     "text": [
      "Enter a number : 12.25\n",
      "150.36360499999998\n"
     ]
    }
   ],
   "source": [
    "def calc(x):\n",
    "    y = 1.005*x\n",
    "    y = y - 0.03667\n",
    "    print(x*y)\n",
    "\n",
    "    \n",
    "x = float(input('Enter a number : '))\n",
    "calc(x)"
   ]
  },
  {
   "cell_type": "code",
   "execution_count": 5,
   "metadata": {},
   "outputs": [],
   "source": [
    "import numpy as np\n",
    "#x,wi,t,e = 2,0.5,4,0.1\n",
    "def percep(x,t,wi,e):\n",
    "    o=x*wi\n",
    "    d=t-o\n",
    "    i=0\n",
    "    while abs(d)>0.000001 and i<4000:\n",
    "        d = e*(d)*x\n",
    "        wi=wi+d\n",
    "        o=x*wi\n",
    "        d=t-o\n",
    "        i=i+1\n",
    "    \n",
    "    return wi,o,i+1"
   ]
  },
  {
   "cell_type": "code",
   "execution_count": 6,
   "metadata": {},
   "outputs": [
    {
     "name": "stdout",
     "output_type": "stream",
     "text": [
      "0 sq - 0.0 nd wt is 0.0 with iteration 1\n",
      "1 sq - 0.9999990036943992 nd wt is 0.9999990036943992 with iteration 1376\n",
      "2 sq - 3.999999024494068 nd wt is 1.999999512247034 with iteration 374\n",
      "3 sq - 8.999999019880105 nd wt is 2.9999996732933685 with iteration 171\n",
      "4 sq - 15.999999139142151 nd wt is 3.9999997847855377 with iteration 97\n",
      "5 sq - 24.99999920271093 nd wt is 4.999999840542186 with iteration 61\n",
      "6 sq - 35.99999900614853 nd wt is 5.999999834358088 with iteration 40\n",
      "7 sq - 48.99999937685253 nd wt is 6.999999910978933 with iteration 28\n",
      "8 sq - 63.999999339876815 nd wt is 7.999999917484602 with iteration 19\n",
      "9 sq - 80.9999990564289 nd wt is 8.999999895158767 with iteration 12\n",
      "10 sq - 100.0 nd wt is 10.0 with iteration 2\n"
     ]
    }
   ],
   "source": [
    "a = []\n",
    "b = []\n",
    "for i in range(0,11):\n",
    "    x=percep(i,i**2,0.0,0.01)\n",
    "    a.append(x)\n",
    "    print(\"{} sq - {} nd wt is {} with iteration {}\".format(i,a[i][1],a[i][0],a[i][2]))\n",
    "    b.append((i,x[0])) #b will be used to calculate and plot graph of input vs weights"
   ]
  },
  {
   "cell_type": "code",
   "execution_count": 7,
   "metadata": {},
   "outputs": [
    {
     "name": "stdout",
     "output_type": "stream",
     "text": [
      "[ 1.00000005e+00 -4.80064912e-07]\n",
      " \n",
      "1 x - 4.801e-07\n"
     ]
    },
    {
     "data": {
      "image/png": "[encoded data removed]",
      "text/plain": [
       "<Figure size 432x288 with 1 Axes>"
      ]
     },
     "metadata": {
      "needs_background": "light"
     },
     "output_type": "display_data"
    }
   ],
   "source": [
    "import numpy as np\n",
    "import matplotlib.pyplot as plt\n",
    "\n",
    "points = np.array(b)\n",
    "# get x and y vectors\n",
    "x = points[:,0]\n",
    "y = points[:,1]\n",
    "\n",
    "# calculate polynomial\n",
    "z = np.polyfit(x, y, 1)\n",
    "f = np.poly1d(z)\n",
    "print(z)\n",
    "print(f)\n",
    "\n",
    "# calculate new x's and y's\n",
    "x_new = np.linspace(x[0], x[-1], 50)\n",
    "y_new = f(x_new)\n",
    "\n",
    "plt.plot(x,y,'o', x_new, y_new)\n",
    "plt.xlim([x[0]-1, x[-1] + 1 ])\n",
    "plt.show()\n"
   ]
  },
  {
   "cell_type": "code",
   "execution_count": 2,
   "metadata": {},
   "outputs": [
    {
     "name": "stdout",
     "output_type": "stream",
     "text": [
      "Enter the no. you want to check for : 12.25\n"
     ]
    },
    {
     "data": {
      "text/plain": [
       "150.0625"
      ]
     },
     "execution_count": 2,
     "metadata": {},
     "output_type": "execute_result"
    }
   ],
   "source": [
    "def calc(x):\n",
    "    return x**2\n",
    "\n",
    "x = float(input(\"Enter the no. you want to check for : \"))\n",
    "calc(x)"
   ]
  },
  {
   "cell_type": "markdown",
   "metadata": {},
   "source": [
    "#### "
   ]
  }
 ],
 "metadata": {
  "kernelspec": {
   "display_name": "Python 3",
   "language": "python",
   "name": "python3"
  },
  "language_info": {
   "codemirror_mode": {
    "name": "ipython",
    "version": 3
   },
   "file_extension": ".py",
   "mimetype": "text/x-python",
   "name": "python",
   "nbconvert_exporter": "python",
   "pygments_lexer": "ipython3",
   "version": "3.7.1"
  }
 },
 "nbformat": 4,
 "nbformat_minor": 2
}
