{
 "cells": [
  {
   "cell_type": "code",
   "execution_count": 4,
   "metadata": {},
   "outputs": [],
   "source": [
    "\n",
    "# List of x and y coordinates\n",
    "pt = []\n",
    "\n",
    "# Calculate Dist. of point from line ay+bx+c=0 form\n",
    "def calc_dist(a,b,c,x,y):\n",
    "    p = (a*y) + (b*x) + c\n",
    "    q = (a*a)+(b*b)\n",
    "    q = np.sqrt(q)\n",
    "    return abs(p/q)\n",
    "\n",
    "\n",
    "# Divide DataSet and calculate e1/e2\n",
    "def calc_error_ratio(size,k,m,c,pt):\n",
    "    brk = size*k\n",
    "    error = 0\n",
    "    for i in range(brk):\n",
    "        offset = calc_dist(1,m,c,pt[i][0],pt[i][1])\n",
    "        error = error + offset\n",
    "    e1 = error/brk\n",
    "    error = 0\n",
    "    for i in range(brk+1, size):\n",
    "        offset = calc_dist(1,m,c,pt[i][0],pt[i][1])\n",
    "        error = error + offset\n",
    "    e2 = error/(size-brk)\n",
    "    return e1/e2\n",
    "\n",
    "# Calculate Slope\n",
    "def calc_slope(m,c,size,ratio,unit):\n",
    "    d_prv = 1-calc_error_ratio(size,ratio,m,c)\n",
    "    while(d>0.001):\n",
    "        m=m+unit\n",
    "        d=1-calc_error_ratio(size,ratio,m,c)\n",
    "        if(d>d_prv):\n",
    "            # Terminate Looping and return previous value of m, Found best value of slope\n",
    "            m_act = m - unit\n",
    "            break;\n",
    "        else:\n",
    "            # Find other instance of m for a better suit\n",
    "            d_prv = d\n",
    "    \n",
    "    return m_act,d\n",
    "\n",
    "# Calculate Intercept\n",
    "def calc_intercept(m,c,size,ratio,unit):\n",
    "    d_prv = 1-calc_error_ratio(size,ratio,m,c)\n",
    "    while(d>0.001):\n",
    "        c=c+unit\n",
    "        d=1-calc_error_ratio(size,ratio,m,c)\n",
    "        if(d>d_prv):\n",
    "            # Terminate Looping and return previous value of c, Found best value of intercept\n",
    "            c_act = c - unit\n",
    "            break;\n",
    "        else:\n",
    "            # Find other instance of c for a better suit\n",
    "            d_prv = d\n",
    "    \n",
    "    return c_act,d\n",
    "\n",
    "\n",
    "# Finding direction of movement for m\n",
    "unit = 0.001\n",
    "error_z,error_n,error_p = 0,0,0\n",
    "m=0\n",
    "for i in range(size):\n",
    "        offset = calc_dist(1,m,c,pt[i][0],pt[i][1])\n",
    "        error_z = error_z + offset\n",
    "m=m+unit\n",
    "for i in range(size):\n",
    "        offset = calc_dist(1,m,c,pt[i][0],pt[i][1])\n",
    "        error_p = error_p + offset\n",
    "\n",
    "m=0\n",
    "m=m-unit\n",
    "for i in range(size):\n",
    "        offset = calc_dist(1,m,c,pt[i][0],pt[i][1])\n",
    "        error_n = error_n + offset\n",
    "        \n",
    "p = abs(error_z - error_p)\n",
    "n = abs(error_z - error_n)\n",
    "if(p>n):\n",
    "    unit=-0.001\n",
    "m=0    \n",
    "\n",
    "# m_act = calc_slope(m,c,size,ratio,unit)\n",
    "\n",
    "\n",
    "# Finding direction of movement for m\n",
    "unit = 0.001\n",
    "error_z,error_n,error_p = 0,0,0\n",
    "c=0\n",
    "for i in range(size):\n",
    "        offset = calc_dist(1,m_act,c,pt[i][0],pt[i][1])\n",
    "        error_z = error_z + offset\n",
    "c=c+unit\n",
    "for i in range(size):\n",
    "        offset = calc_dist(1,m_act,c,pt[i][0],pt[i][1])\n",
    "        error_p = error_p + offset\n",
    "\n",
    "c=0\n",
    "c=c-unit\n",
    "for i in range(size):\n",
    "        offset = calc_dist(1,m_act,c,pt[i][0],pt[i][1])\n",
    "        error_n = error_n + offset\n",
    "        \n",
    "p = abs(error_z - error_p)\n",
    "n = abs(error_z - error_n)\n",
    "if(p>n):\n",
    "    unit=-0.001\n",
    "c=0 \n",
    "\n",
    "# calc_intercept(m_act,c,size,ratio,unit)"
   ]
  },
  {
   "cell_type": "markdown",
   "metadata": {},
   "source": [
    "# Implementation"
   ]
  },
  {
   "cell_type": "code",
   "execution_count": 27,
   "metadata": {},
   "outputs": [],
   "source": [
    "import pandas as pd\n",
    "import numpy as np\n",
    "import seaborn as sns\n",
    "import matplotlib.pyplot as plt\n",
    "from sklearn.model_selection import ShuffleSplit, train_test_split\n",
    "from sklearn.linear_model import LinearRegression\n",
    "from sklearn.metrics import r2_score"
   ]
  },
  {
   "cell_type": "code",
   "execution_count": 35,
   "metadata": {},
   "outputs": [
    {
     "data": {
      "text/html": [
       "<div>\n",
       "<style scoped>\n",
       "    .dataframe tbody tr th:only-of-type {\n",
       "        vertical-align: middle;\n",
       "    }\n",
       "\n",
       "    .dataframe tbody tr th {\n",
       "        vertical-align: top;\n",
       "    }\n",
       "\n",
       "    .dataframe thead th {\n",
       "        text-align: right;\n",
       "    }\n",
       "</style>\n",
       "<table border=\"1\" class=\"dataframe\">\n",
       "  <thead>\n",
       "    <tr style=\"text-align: right;\">\n",
       "      <th></th>\n",
       "      <th>RM</th>\n",
       "      <th>LSTAT</th>\n",
       "      <th>PTRATIO</th>\n",
       "      <th>MEDV</th>\n",
       "    </tr>\n",
       "  </thead>\n",
       "  <tbody>\n",
       "    <tr>\n",
       "      <th>0</th>\n",
       "      <td>6.575</td>\n",
       "      <td>4.98</td>\n",
       "      <td>15.3</td>\n",
       "      <td>504000.0</td>\n",
       "    </tr>\n",
       "    <tr>\n",
       "      <th>1</th>\n",
       "      <td>6.421</td>\n",
       "      <td>9.14</td>\n",
       "      <td>17.8</td>\n",
       "      <td>453600.0</td>\n",
       "    </tr>\n",
       "    <tr>\n",
       "      <th>2</th>\n",
       "      <td>7.185</td>\n",
       "      <td>4.03</td>\n",
       "      <td>17.8</td>\n",
       "      <td>728700.0</td>\n",
       "    </tr>\n",
       "    <tr>\n",
       "      <th>3</th>\n",
       "      <td>6.998</td>\n",
       "      <td>2.94</td>\n",
       "      <td>18.7</td>\n",
       "      <td>701400.0</td>\n",
       "    </tr>\n",
       "    <tr>\n",
       "      <th>4</th>\n",
       "      <td>7.147</td>\n",
       "      <td>5.33</td>\n",
       "      <td>18.7</td>\n",
       "      <td>760200.0</td>\n",
       "    </tr>\n",
       "    <tr>\n",
       "      <th>5</th>\n",
       "      <td>6.430</td>\n",
       "      <td>5.21</td>\n",
       "      <td>18.7</td>\n",
       "      <td>602700.0</td>\n",
       "    </tr>\n",
       "    <tr>\n",
       "      <th>6</th>\n",
       "      <td>6.012</td>\n",
       "      <td>12.43</td>\n",
       "      <td>15.2</td>\n",
       "      <td>480900.0</td>\n",
       "    </tr>\n",
       "    <tr>\n",
       "      <th>7</th>\n",
       "      <td>6.172</td>\n",
       "      <td>19.15</td>\n",
       "      <td>15.2</td>\n",
       "      <td>569100.0</td>\n",
       "    </tr>\n",
       "    <tr>\n",
       "      <th>8</th>\n",
       "      <td>5.631</td>\n",
       "      <td>29.93</td>\n",
       "      <td>15.2</td>\n",
       "      <td>346500.0</td>\n",
       "    </tr>\n",
       "    <tr>\n",
       "      <th>9</th>\n",
       "      <td>6.004</td>\n",
       "      <td>17.10</td>\n",
       "      <td>15.2</td>\n",
       "      <td>396900.0</td>\n",
       "    </tr>\n",
       "  </tbody>\n",
       "</table>\n",
       "</div>"
      ],
      "text/plain": [
       "      RM  LSTAT  PTRATIO      MEDV\n",
       "0  6.575   4.98     15.3  504000.0\n",
       "1  6.421   9.14     17.8  453600.0\n",
       "2  7.185   4.03     17.8  728700.0\n",
       "3  6.998   2.94     18.7  701400.0\n",
       "4  7.147   5.33     18.7  760200.0\n",
       "5  6.430   5.21     18.7  602700.0\n",
       "6  6.012  12.43     15.2  480900.0\n",
       "7  6.172  19.15     15.2  569100.0\n",
       "8  5.631  29.93     15.2  346500.0\n",
       "9  6.004  17.10     15.2  396900.0"
      ]
     },
     "execution_count": 35,
     "metadata": {},
     "output_type": "execute_result"
    }
   ],
   "source": [
    "data = pd.read_csv('housing.csv')\n",
    "data.head(10)"
   ]
  },
  {
   "cell_type": "code",
   "execution_count": 16,
   "metadata": {},
   "outputs": [
    {
     "data": {
      "text/html": [
       "<div>\n",
       "<style scoped>\n",
       "    .dataframe tbody tr th:only-of-type {\n",
       "        vertical-align: middle;\n",
       "    }\n",
       "\n",
       "    .dataframe tbody tr th {\n",
       "        vertical-align: top;\n",
       "    }\n",
       "\n",
       "    .dataframe thead th {\n",
       "        text-align: right;\n",
       "    }\n",
       "</style>\n",
       "<table border=\"1\" class=\"dataframe\">\n",
       "  <thead>\n",
       "    <tr style=\"text-align: right;\">\n",
       "      <th></th>\n",
       "      <th>RM</th>\n",
       "      <th>LSTAT</th>\n",
       "      <th>PTRATIO</th>\n",
       "      <th>MEDV</th>\n",
       "    </tr>\n",
       "  </thead>\n",
       "  <tbody>\n",
       "    <tr>\n",
       "      <th>RM</th>\n",
       "      <td>1.000000</td>\n",
       "      <td>-0.612033</td>\n",
       "      <td>-0.304559</td>\n",
       "      <td>0.697209</td>\n",
       "    </tr>\n",
       "    <tr>\n",
       "      <th>LSTAT</th>\n",
       "      <td>-0.612033</td>\n",
       "      <td>1.000000</td>\n",
       "      <td>0.360445</td>\n",
       "      <td>-0.760670</td>\n",
       "    </tr>\n",
       "    <tr>\n",
       "      <th>PTRATIO</th>\n",
       "      <td>-0.304559</td>\n",
       "      <td>0.360445</td>\n",
       "      <td>1.000000</td>\n",
       "      <td>-0.519034</td>\n",
       "    </tr>\n",
       "    <tr>\n",
       "      <th>MEDV</th>\n",
       "      <td>0.697209</td>\n",
       "      <td>-0.760670</td>\n",
       "      <td>-0.519034</td>\n",
       "      <td>1.000000</td>\n",
       "    </tr>\n",
       "  </tbody>\n",
       "</table>\n",
       "</div>"
      ],
      "text/plain": [
       "               RM     LSTAT   PTRATIO      MEDV\n",
       "RM       1.000000 -0.612033 -0.304559  0.697209\n",
       "LSTAT   -0.612033  1.000000  0.360445 -0.760670\n",
       "PTRATIO -0.304559  0.360445  1.000000 -0.519034\n",
       "MEDV     0.697209 -0.760670 -0.519034  1.000000"
      ]
     },
     "execution_count": 16,
     "metadata": {},
     "output_type": "execute_result"
    }
   ],
   "source": [
    "data.corr()"
   ]
  },
  {
   "cell_type": "code",
   "execution_count": 44,
   "metadata": {},
   "outputs": [
    {
     "data": {
      "text/plain": [
       "342"
      ]
     },
     "execution_count": 44,
     "metadata": {},
     "output_type": "execute_result"
    }
   ],
   "source": [
    "x = data[['RM','LSTAT','PTRATIO']]\n",
    "y = data[['MEDV']]\n",
    "X_train, X_test, y_train, y_test = train_test_split(x, y, test_size=0.3, random_state=101)\n",
    "X_train.shape[0]"
   ]
  },
  {
   "cell_type": "code",
   "execution_count": 42,
   "metadata": {},
   "outputs": [
    {
     "data": {
      "text/plain": [
       "LinearRegression(copy_X=True, fit_intercept=True, n_jobs=None,\n",
       "         normalize=False)"
      ]
     },
     "execution_count": 42,
     "metadata": {},
     "output_type": "execute_result"
    }
   ],
   "source": [
    "lm = LinearRegression()\n",
    "lm.fit(X_train,y_train)"
   ]
  },
  {
   "cell_type": "code",
   "execution_count": 78,
   "metadata": {},
   "outputs": [
    {
     "data": {
      "text/plain": [
       "<matplotlib.collections.PathCollection at 0x22da4bff0f0>"
      ]
     },
     "execution_count": 78,
     "metadata": {},
     "output_type": "execute_result"
    },
    {
     "data": {
      "image/png": "[encoded data removed]",
      "text/plain": [
       "<Figure size 432x288 with 1 Axes>"
      ]
     },
     "metadata": {
      "needs_background": "light"
     },
     "output_type": "display_data"
    }
   ],
   "source": [
    "predictions = lm.predict(X_test) #has all the predicted price\n",
    "plt.scatter(y_test, predictions)"
   ]
  },
  {
   "cell_type": "code",
   "execution_count": null,
   "metadata": {},
   "outputs": [],
   "source": [
    "a = np.float32(input(\"Enter RM\"))\n",
    "b = np.float32(input(\"Enter LSTAT\"))\n",
    "c = np.float32(input(\"Enter PTRATIO\"))\n",
    "data = [[a,b,c]]\n",
    "print(\"Price is : {}\".format(lm.predict(data)))"
   ]
  },
  {
   "cell_type": "code",
   "execution_count": null,
   "metadata": {},
   "outputs": [],
   "source": []
  },
  {
   "cell_type": "code",
   "execution_count": null,
   "metadata": {},
   "outputs": [],
   "source": []
  }
 ],
 "metadata": {
  "kernelspec": {
   "display_name": "Python 3",
   "language": "python",
   "name": "python3"
  },
  "language_info": {
   "codemirror_mode": {
    "name": "ipython",
    "version": 3
   },
   "file_extension": ".py",
   "mimetype": "text/x-python",
   "name": "python",
   "nbconvert_exporter": "python",
   "pygments_lexer": "ipython3",
   "version": "3.7.1"
  }
 },
 "nbformat": 4,
 "nbformat_minor": 2
}
