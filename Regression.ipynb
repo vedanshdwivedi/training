{
 "cells": [
  {
   "cell_type": "code",
   "execution_count": 1,
   "metadata": {},
   "outputs": [],
   "source": [
    "import pandas as pd\n",
    "import numpy as np\n",
    "import seaborn as sns\n",
    "import matplotlib.pyplot as plt\n",
    "# List of x and y coordinates\n",
    "data = pd.read_csv('housing.csv')\n",
    "# sns.pairplot(data)"
   ]
  },
  {
   "cell_type": "code",
   "execution_count": 2,
   "metadata": {},
   "outputs": [],
   "source": [
    "data = data.drop('LSTAT',axis=1)\n",
    "data = data.drop('PTRATIO',axis=1)\n",
    "sorted_set = data.sort_values(by=['RM'],ascending=True,inplace=True)\n",
    "sorted_set = np.copy(data)\n",
    "sorted_set.shape\n",
    "feature = sorted_set[:]\n",
    "value = sorted_set[:]\n",
    "f = []\n",
    "for frame in feature:\n",
    "    f.append(frame[0])\n",
    "v = []\n",
    "for frame in feature:\n",
    "    v.append(frame[1])\n",
    "size = data.shape[0]"
   ]
  },
  {
   "cell_type": "code",
   "execution_count": 3,
   "metadata": {},
   "outputs": [],
   "source": [
    "a = []\n",
    "for i in range(data.shape[0]):\n",
    "    a.append([f[i],v[i]])\n",
    "  "
   ]
  },
  {
   "cell_type": "code",
   "execution_count": 4,
   "metadata": {},
   "outputs": [],
   "source": [
    "# Calculate Dist. of point from line ay+bx+c=0 form\n",
    "def calc_dist(a,b,c,x,y):\n",
    "    p = (a*y) + (b*x) + c\n",
    "    q = (a*a)+(b*b)\n",
    "    q = np.sqrt(q)\n",
    "    return abs(p/q)\n",
    "\n",
    "\n",
    "# Divide DataSet and calculate e1/e2\n",
    "def calc_error_ratio(size,k,m,c,pt):\n",
    "    brk = int(size*k)\n",
    "    error = 0\n",
    "    for i in range(brk):\n",
    "        offset = calc_dist(1,m,c,pt[i][0],pt[i][1])\n",
    "        error = error + offset\n",
    "    e1 = error/brk\n",
    "    error = 0\n",
    "    for i in range(brk+1, size):\n",
    "        offset = calc_dist(1,m,c,pt[i][0],pt[i][1])\n",
    "        error = error + offset\n",
    "    e2 = error/(size-brk)\n",
    "    return e1/e2"
   ]
  },
  {
   "cell_type": "code",
   "execution_count": null,
   "metadata": {},
   "outputs": [],
   "source": [
    "# Calculate Slope\n",
    "def calc_slope(m,c,size,ratio,unit,a):\n",
    "    m_act = m\n",
    "    d_prv = 1-calc_error_ratio(size,ratio,m,c,a)\n",
    "    d=d_prv\n",
    "    # print(\"d is {} and d_prv is {}\".format(d,d_prv))\n",
    "    while(d>0.17):\n",
    "        m=m+unit\n",
    "        d=1-calc_error_ratio(size,ratio,m,c,a)\n",
    "        m_act = m\n",
    "        if(d>d_prv):\n",
    "            # Terminate Looping and return previous value of m, Found best value of slope\n",
    "            m_act = m - unit\n",
    "            break;\n",
    "        else:\n",
    "            # Find other instance of m for a better suit\n",
    "            d_prv = d\n",
    "    \n",
    "    return m_act,d\n",
    "\n",
    "# Calculate Intercept\n",
    "def calc_intercept(m,c,size,ratio,unit,a,d_prv):\n",
    "    c_act = c\n",
    "    d = d_prv\n",
    "    while(d>0.15):\n",
    "        c=c+unit\n",
    "        d=1-calc_error_ratio(size,ratio,m,c,a)\n",
    "        c_act = c\n",
    "        if(d>d_prv):\n",
    "            # Terminate Looping and return previous value of c, Found best value of intercept\n",
    "            c_act = c - unit\n",
    "            break;\n",
    "        else:\n",
    "            # Find other instance of c for a better suit\n",
    "            d_prv = d\n",
    "    \n",
    "    return c_act"
   ]
  },
  {
   "cell_type": "code",
   "execution_count": null,
   "metadata": {},
   "outputs": [],
   "source": [
    "# Finding direction of movement for m\n",
    "unit = 8\n",
    "c=0\n",
    "error_z,error_n,error_p = 0,0,0\n",
    "m=0\n",
    "for i in range(size):\n",
    "        offset = calc_dist(1,m,c,a[i][0],a[i][1])\n",
    "        error_z = error_z + offset\n",
    "m=m+unit\n",
    "for i in range(size):\n",
    "        offset = calc_dist(1,m,c,a[i][0],a[i][1])\n",
    "        error_p = error_p + offset\n",
    "\n",
    "m=0\n",
    "m=m-unit\n",
    "for i in range(size):\n",
    "        offset = calc_dist(1,m,c,a[i][0],a[i][1])\n",
    "        error_n = error_n + offset\n",
    "        \n",
    "p = abs(error_z - error_p)\n",
    "n = abs(error_z - error_n)\n",
    "if(p>n):\n",
    "    unit=-8\n",
    "m=0"
   ]
  },
  {
   "cell_type": "code",
   "execution_count": null,
   "metadata": {},
   "outputs": [
    {
     "data": {
      "text/plain": [
       "291408"
      ]
     },
     "execution_count": 7,
     "metadata": {},
     "output_type": "execute_result"
    }
   ],
   "source": [
    "m_act,d = calc_slope(m,c,size,0.4,unit,a)\n",
    "m_act"
   ]
  },
  {
   "cell_type": "code",
   "execution_count": null,
   "metadata": {},
   "outputs": [],
   "source": [
    "# Finding direction of movement for c\n",
    "unit = 0.1\n",
    "error_z,error_n,error_p = 0,0,0\n",
    "for i in range(size):\n",
    "        offset = calc_dist(1,m_act,c,a[i][0],a[i][1])\n",
    "        error_z = error_z + offset\n",
    "c=c+unit\n",
    "for i in range(size):\n",
    "        offset = calc_dist(1,m_act,c,a[i][0],a[i][1])\n",
    "        error_p = error_p + offset\n",
    "\n",
    "c=0\n",
    "c=c-unit\n",
    "for i in range(size):\n",
    "        offset = calc_dist(1,m_act,c,a[i][0],a[i][1])\n",
    "        error_n = error_n + offset\n",
    "        \n",
    "p = abs(error_z - error_p)\n",
    "n = abs(error_z - error_n)\n",
    "if(p>n):\n",
    "    unit=-0.1\n",
    "c=0\n",
    "c=c+unit"
   ]
  },
  {
   "cell_type": "code",
   "execution_count": null,
   "metadata": {},
   "outputs": [
    {
     "data": {
      "text/plain": [
       "291408"
      ]
     },
     "execution_count": 9,
     "metadata": {},
     "output_type": "execute_result"
    }
   ],
   "source": [
    "c_act= calc_intercept(m_act,c,size,0.4,unit,a,d)\n",
    "c_act\n",
    "\n",
    "\n",
    "def predict(x):\n",
    "    y = x*m_act\n",
    "    y = y + c_act\n",
    "    return abs(y)\n",
    "\n",
    "m_act"
   ]
  },
  {
   "cell_type": "code",
   "execution_count": null,
   "metadata": {},
   "outputs": [],
   "source": [
    "# Predictor\n",
    "x = np.float32(input(\"Enter feature : \"))\n",
    "y = predict(x)\n"
   ]
  },
  {
   "cell_type": "markdown",
   "metadata": {},
   "source": [
    "# Implementation"
   ]
  },
  {
   "cell_type": "code",
   "execution_count": null,
   "metadata": {},
   "outputs": [],
   "source": [
    "import pandas as pd\n",
    "import numpy as np\n",
    "import seaborn as sns\n",
    "import matplotlib.pyplot as plt\n",
    "from sklearn.model_selection import ShuffleSplit, train_test_split\n",
    "from sklearn.linear_model import LinearRegression\n",
    "from sklearn.metrics import r2_score"
   ]
  },
  {
   "cell_type": "code",
   "execution_count": null,
   "metadata": {},
   "outputs": [],
   "source": [
    "data = pd.read_csv('housing.csv')\n",
    "data.head(10)"
   ]
  },
  {
   "cell_type": "code",
   "execution_count": null,
   "metadata": {},
   "outputs": [],
   "source": [
    "data.corr()"
   ]
  },
  {
   "cell_type": "code",
   "execution_count": null,
   "metadata": {},
   "outputs": [],
   "source": [
    "x = data[['RM','LSTAT','PTRATIO']]\n",
    "y = data[['MEDV']]\n",
    "X_train, X_test, y_train, y_test = train_test_split(x, y, test_size=0.3, random_state=101)\n",
    "X_train.shape[0]"
   ]
  },
  {
   "cell_type": "code",
   "execution_count": null,
   "metadata": {},
   "outputs": [],
   "source": [
    "lm = LinearRegression()\n",
    "lm.fit(X_train,y_train)"
   ]
  },
  {
   "cell_type": "code",
   "execution_count": null,
   "metadata": {},
   "outputs": [],
   "source": [
    "predictions = lm.predict(X_test) #has all the predicted price\n",
    "plt.scatter(y_test, predictions)"
   ]
  },
  {
   "cell_type": "code",
   "execution_count": null,
   "metadata": {},
   "outputs": [],
   "source": [
    "a = np.float32(input(\"Enter RM \"))\n",
    "b = np.float32(input(\"Enter LSTAT \"))\n",
    "c = np.float32(input(\"Enter PTRATIO \"))\n",
    "data = [[a,b,c]]\n",
    "print(\"Price is : {}\".format(lm.predict(data)))"
   ]
  },
  {
   "cell_type": "code",
   "execution_count": null,
   "metadata": {},
   "outputs": [],
   "source": []
  },
  {
   "cell_type": "code",
   "execution_count": null,
   "metadata": {},
   "outputs": [],
   "source": []
  }
 ],
 "metadata": {
  "kernelspec": {
   "display_name": "Python 3",
   "language": "python",
   "name": "python3"
  },
  "language_info": {
   "codemirror_mode": {
    "name": "ipython",
    "version": 3
   },
   "file_extension": ".py",
   "mimetype": "text/x-python",
   "name": "python",
   "nbconvert_exporter": "python",
   "pygments_lexer": "ipython3",
   "version": "3.7.1"
  }
 },
 "nbformat": 4,
 "nbformat_minor": 2
}
