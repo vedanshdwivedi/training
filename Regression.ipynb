{
 "cells": [
  {
   "cell_type": "code",
   "execution_count": 1,
   "metadata": {},
   "outputs": [],
   "source": [
    "import pandas as pd\n",
    "import numpy as np\n",
    "import seaborn as sns\n",
    "import matplotlib.pyplot as plt\n",
    "# List of x and y coordinates\n",
    "data = pd.read_csv('housing.csv')\n",
    "# sns.pairplot(data)"
   ]
  },
  {
   "cell_type": "code",
   "execution_count": 2,
   "metadata": {},
   "outputs": [],
   "source": [
    "data = data.drop('LSTAT',axis=1)\n",
    "data = data.drop('PTRATIO',axis=1)\n",
    "sorted_set = data.sort_values(by=['RM'],ascending=True,inplace=True)\n",
    "sorted_set = np.copy(data)\n",
    "sorted_set.shape\n",
    "feature = sorted_set[:]\n",
    "value = sorted_set[:]\n",
    "f = []\n",
    "for frame in feature:\n",
    "    f.append(frame[0])\n",
    "v = []\n",
    "for frame in feature:\n",
    "    v.append(frame[1])\n",
    "size = data.shape[0]"
   ]
  },
  {
   "cell_type": "code",
   "execution_count": 3,
   "metadata": {},
   "outputs": [],
   "source": [
    "a = []\n",
    "for i in range(data.shape[0]):\n",
    "    a.append([f[i],v[i]])\n",
    "  "
   ]
  },
  {
   "cell_type": "code",
   "execution_count": 4,
   "metadata": {},
   "outputs": [],
   "source": [
    "# Calculate Dist. of point from line ay+bx+c=0 form\n",
    "def calc_dist(a,b,c,x,y):\n",
    "    p = (a*y) + (b*x) + c\n",
    "    q = (a*a)+(b*b)\n",
    "    q = np.sqrt(q)\n",
    "    return abs(p/q)\n",
    "\n",
    "\n",
    "# Divide DataSet and calculate e1/e2\n",
    "def calc_error_ratio(size,k,m,c,pt):\n",
    "    brk = int(size*k)\n",
    "    error = 0\n",
    "    for i in range(brk):\n",
    "        offset = calc_dist(1,m,c,pt[i][0],pt[i][1])\n",
    "        error = error + offset\n",
    "    e1 = error/brk\n",
    "    error = 0\n",
    "    for i in range(brk+1, size):\n",
    "        offset = calc_dist(1,m,c,pt[i][0],pt[i][1])\n",
    "        error = error + offset\n",
    "    e2 = error/(size-brk)\n",
    "    return e1/e2"
   ]
  },
  {
   "cell_type": "code",
   "execution_count": 5,
   "metadata": {},
   "outputs": [],
   "source": [
    "# Calculate Slope\n",
    "def calc_slope(m,c,size,ratio,unit,a):\n",
    "    m_act = m\n",
    "    d_prv = 1-calc_error_ratio(size,ratio,m,c,a)\n",
    "    d=d_prv\n",
    "    # print(\"d is {} and d_prv is {}\".format(d,d_prv))\n",
    "    while(d>0.17):\n",
    "        m=m+unit\n",
    "        d=1-calc_error_ratio(size,ratio,m,c,a)\n",
    "        m_act = m\n",
    "        if(d>d_prv):\n",
    "            # Terminate Looping and return previous value of m, Found best value of slope\n",
    "            m_act = m - unit\n",
    "            break;\n",
    "        else:\n",
    "            # Find other instance of m for a better suit\n",
    "            d_prv = d\n",
    "    \n",
    "    return m_act,d\n",
    "\n",
    "# Calculate Intercept\n",
    "def calc_intercept(m,c,size,ratio,unit,a,d_prv):\n",
    "    c_act = c\n",
    "    d = d_prv\n",
    "    while(d>0.15):\n",
    "        c=c+unit\n",
    "        d=1-calc_error_ratio(size,ratio,m,c,a)\n",
    "        c_act = c\n",
    "        if(d>d_prv):\n",
    "            # Terminate Looping and return previous value of c, Found best value of intercept\n",
    "            c_act = c - unit\n",
    "            break;\n",
    "        else:\n",
    "            # Find other instance of c for a better suit\n",
    "            d_prv = d\n",
    "    \n",
    "    return c_act"
   ]
  },
  {
   "cell_type": "code",
   "execution_count": 6,
   "metadata": {},
   "outputs": [],
   "source": [
    "# Finding direction of movement for m\n",
    "unit = 8\n",
    "c=0\n",
    "error_z,error_n,error_p = 0,0,0\n",
    "m=0\n",
    "for i in range(size):\n",
    "        offset = calc_dist(1,m,c,a[i][0],a[i][1])\n",
    "        error_z = error_z + offset\n",
    "m=m+unit\n",
    "for i in range(size):\n",
    "        offset = calc_dist(1,m,c,a[i][0],a[i][1])\n",
    "        error_p = error_p + offset\n",
    "\n",
    "m=0\n",
    "m=m-unit\n",
    "for i in range(size):\n",
    "        offset = calc_dist(1,m,c,a[i][0],a[i][1])\n",
    "        error_n = error_n + offset\n",
    "        \n",
    "p = abs(error_z - error_p)\n",
    "n = abs(error_z - error_n)\n",
    "if(p>n):\n",
    "    unit=-8\n",
    "m=0"
   ]
  },
  {
   "cell_type": "code",
   "execution_count": 7,
   "metadata": {},
   "outputs": [
    {
     "data": {
      "text/plain": [
       "291408"
      ]
     },
     "execution_count": 7,
     "metadata": {},
     "output_type": "execute_result"
    }
   ],
   "source": [
    "m_act,d = calc_slope(m,c,size,0.4,unit,a)\n",
    "m_act"
   ]
  },
  {
   "cell_type": "code",
   "execution_count": 8,
   "metadata": {},
   "outputs": [],
   "source": [
    "# Finding direction of movement for c\n",
    "unit = 0.1\n",
    "error_z,error_n,error_p = 0,0,0\n",
    "for i in range(size):\n",
    "        offset = calc_dist(1,m_act,c,a[i][0],a[i][1])\n",
    "        error_z = error_z + offset\n",
    "c=c+unit\n",
    "for i in range(size):\n",
    "        offset = calc_dist(1,m_act,c,a[i][0],a[i][1])\n",
    "        error_p = error_p + offset\n",
    "\n",
    "c=0\n",
    "c=c-unit\n",
    "for i in range(size):\n",
    "        offset = calc_dist(1,m_act,c,a[i][0],a[i][1])\n",
    "        error_n = error_n + offset\n",
    "        \n",
    "p = abs(error_z - error_p)\n",
    "n = abs(error_z - error_n)\n",
    "if(p>n):\n",
    "    unit=-0.1\n",
    "c=0\n",
    "c=c+unit"
   ]
  },
  {
   "cell_type": "code",
   "execution_count": 9,
   "metadata": {},
   "outputs": [
    {
     "data": {
      "text/plain": [
       "291408"
      ]
     },
     "execution_count": 9,
     "metadata": {},
     "output_type": "execute_result"
    }
   ],
   "source": [
    "c_act= calc_intercept(m_act,c,size,0.4,unit,a,d)\n",
    "c_act\n",
    "\n",
    "\n",
    "def predict(x):\n",
    "    y = x*m_act\n",
    "    y = y + c_act\n",
    "    return abs(y)\n",
    "\n",
    "m_act"
   ]
  },
  {
   "cell_type": "code",
   "execution_count": 18,
   "metadata": {},
   "outputs": [
    {
     "name": "stdout",
     "output_type": "stream",
     "text": [
      "Enter feature : 4.3\n"
     ]
    },
    {
     "data": {
      "text/plain": [
       "1253054.355581665"
      ]
     },
     "execution_count": 18,
     "metadata": {},
     "output_type": "execute_result"
    }
   ],
   "source": [
    "# Predictor\n",
    "x = np.float32(input(\"Enter feature : \"))\n",
    "y = predict(x)\n",
    "y"
   ]
  },
  {
   "cell_type": "markdown",
   "metadata": {},
   "source": [
    "# Implementation"
   ]
  },
  {
   "cell_type": "code",
   "execution_count": 11,
   "metadata": {},
   "outputs": [],
   "source": [
    "import pandas as pd\n",
    "import numpy as np\n",
    "import seaborn as sns\n",
    "import matplotlib.pyplot as plt\n",
    "from sklearn.model_selection import ShuffleSplit, train_test_split\n",
    "from sklearn.linear_model import LinearRegression\n",
    "from sklearn.metrics import r2_score"
   ]
  },
  {
   "cell_type": "code",
   "execution_count": 19,
   "metadata": {},
   "outputs": [
    {
     "data": {
      "text/html": [
       "<div>\n",
       "<style scoped>\n",
       "    .dataframe tbody tr th:only-of-type {\n",
       "        vertical-align: middle;\n",
       "    }\n",
       "\n",
       "    .dataframe tbody tr th {\n",
       "        vertical-align: top;\n",
       "    }\n",
       "\n",
       "    .dataframe thead th {\n",
       "        text-align: right;\n",
       "    }\n",
       "</style>\n",
       "<table border=\"1\" class=\"dataframe\">\n",
       "  <thead>\n",
       "    <tr style=\"text-align: right;\">\n",
       "      <th></th>\n",
       "      <th>RM</th>\n",
       "      <th>MEDV</th>\n",
       "    </tr>\n",
       "  </thead>\n",
       "  <tbody>\n",
       "    <tr>\n",
       "      <th>0</th>\n",
       "      <td>6.575</td>\n",
       "      <td>504000.0</td>\n",
       "    </tr>\n",
       "    <tr>\n",
       "      <th>1</th>\n",
       "      <td>6.421</td>\n",
       "      <td>453600.0</td>\n",
       "    </tr>\n",
       "    <tr>\n",
       "      <th>2</th>\n",
       "      <td>7.185</td>\n",
       "      <td>728700.0</td>\n",
       "    </tr>\n",
       "    <tr>\n",
       "      <th>3</th>\n",
       "      <td>6.998</td>\n",
       "      <td>701400.0</td>\n",
       "    </tr>\n",
       "    <tr>\n",
       "      <th>4</th>\n",
       "      <td>7.147</td>\n",
       "      <td>760200.0</td>\n",
       "    </tr>\n",
       "    <tr>\n",
       "      <th>5</th>\n",
       "      <td>6.430</td>\n",
       "      <td>602700.0</td>\n",
       "    </tr>\n",
       "    <tr>\n",
       "      <th>6</th>\n",
       "      <td>6.012</td>\n",
       "      <td>480900.0</td>\n",
       "    </tr>\n",
       "    <tr>\n",
       "      <th>7</th>\n",
       "      <td>6.172</td>\n",
       "      <td>569100.0</td>\n",
       "    </tr>\n",
       "    <tr>\n",
       "      <th>8</th>\n",
       "      <td>5.631</td>\n",
       "      <td>346500.0</td>\n",
       "    </tr>\n",
       "    <tr>\n",
       "      <th>9</th>\n",
       "      <td>6.004</td>\n",
       "      <td>396900.0</td>\n",
       "    </tr>\n",
       "  </tbody>\n",
       "</table>\n",
       "</div>"
      ],
      "text/plain": [
       "      RM      MEDV\n",
       "0  6.575  504000.0\n",
       "1  6.421  453600.0\n",
       "2  7.185  728700.0\n",
       "3  6.998  701400.0\n",
       "4  7.147  760200.0\n",
       "5  6.430  602700.0\n",
       "6  6.012  480900.0\n",
       "7  6.172  569100.0\n",
       "8  5.631  346500.0\n",
       "9  6.004  396900.0"
      ]
     },
     "execution_count": 19,
     "metadata": {},
     "output_type": "execute_result"
    }
   ],
   "source": [
    "data = pd.read_csv('housing.csv')\n",
    "data = data.drop('LSTAT',axis=1)\n",
    "data = data.drop('PTRATIO',axis=1)\n",
    "data.head(10)"
   ]
  },
  {
   "cell_type": "code",
   "execution_count": 20,
   "metadata": {},
   "outputs": [
    {
     "data": {
      "text/html": [
       "<div>\n",
       "<style scoped>\n",
       "    .dataframe tbody tr th:only-of-type {\n",
       "        vertical-align: middle;\n",
       "    }\n",
       "\n",
       "    .dataframe tbody tr th {\n",
       "        vertical-align: top;\n",
       "    }\n",
       "\n",
       "    .dataframe thead th {\n",
       "        text-align: right;\n",
       "    }\n",
       "</style>\n",
       "<table border=\"1\" class=\"dataframe\">\n",
       "  <thead>\n",
       "    <tr style=\"text-align: right;\">\n",
       "      <th></th>\n",
       "      <th>RM</th>\n",
       "      <th>MEDV</th>\n",
       "    </tr>\n",
       "  </thead>\n",
       "  <tbody>\n",
       "    <tr>\n",
       "      <th>RM</th>\n",
       "      <td>1.000000</td>\n",
       "      <td>0.697209</td>\n",
       "    </tr>\n",
       "    <tr>\n",
       "      <th>MEDV</th>\n",
       "      <td>0.697209</td>\n",
       "      <td>1.000000</td>\n",
       "    </tr>\n",
       "  </tbody>\n",
       "</table>\n",
       "</div>"
      ],
      "text/plain": [
       "            RM      MEDV\n",
       "RM    1.000000  0.697209\n",
       "MEDV  0.697209  1.000000"
      ]
     },
     "execution_count": 20,
     "metadata": {},
     "output_type": "execute_result"
    }
   ],
   "source": [
    "data.corr()"
   ]
  },
  {
   "cell_type": "code",
   "execution_count": 22,
   "metadata": {},
   "outputs": [
    {
     "data": {
      "text/plain": [
       "342"
      ]
     },
     "execution_count": 22,
     "metadata": {},
     "output_type": "execute_result"
    }
   ],
   "source": [
    "x = data[['RM']]\n",
    "y = data[['MEDV']]\n",
    "X_train, X_test, y_train, y_test = train_test_split(x, y, test_size=0.3, random_state=101)\n",
    "X_train.shape[0]"
   ]
  },
  {
   "cell_type": "code",
   "execution_count": 23,
   "metadata": {},
   "outputs": [
    {
     "data": {
      "text/plain": [
       "LinearRegression(copy_X=True, fit_intercept=True, n_jobs=None,\n",
       "         normalize=False)"
      ]
     },
     "execution_count": 23,
     "metadata": {},
     "output_type": "execute_result"
    }
   ],
   "source": [
    "lm = LinearRegression()\n",
    "lm.fit(X_train,y_train)"
   ]
  },
  {
   "cell_type": "code",
   "execution_count": 24,
   "metadata": {},
   "outputs": [
    {
     "data": {
      "text/plain": [
       "<matplotlib.collections.PathCollection at 0x1f90a9747b8>"
      ]
     },
     "execution_count": 24,
     "metadata": {},
     "output_type": "execute_result"
    },
    {
     "data": {
      "image/png": "[encoded data removed]",
      "text/plain": [
       "<Figure size 432x288 with 1 Axes>"
      ]
     },
     "metadata": {
      "needs_background": "light"
     },
     "output_type": "display_data"
    }
   ],
   "source": [
    "predictions = lm.predict(X_test) #has all the predicted price\n",
    "plt.scatter(y_test, predictions)"
   ]
  },
  {
   "cell_type": "code",
   "execution_count": 26,
   "metadata": {},
   "outputs": [
    {
     "name": "stdout",
     "output_type": "stream",
     "text": [
      "Enter RM 4.3\n",
      "Price is : [[115138.32013507]]\n"
     ]
    }
   ],
   "source": [
    "a = np.float32(input(\"Enter RM \"))\n",
    "data = [[a]]\n",
    "print(\"Price is : {}\".format(lm.predict(data)))"
   ]
  },
  {
   "cell_type": "code",
   "execution_count": null,
   "metadata": {},
   "outputs": [],
   "source": []
  },
  {
   "cell_type": "code",
   "execution_count": null,
   "metadata": {},
   "outputs": [],
   "source": []
  }
 ],
 "metadata": {
  "kernelspec": {
   "display_name": "Python 3",
   "language": "python",
   "name": "python3"
  },
  "language_info": {
   "codemirror_mode": {
    "name": "ipython",
    "version": 3
   },
   "file_extension": ".py",
   "mimetype": "text/x-python",
   "name": "python",
   "nbconvert_exporter": "python",
   "pygments_lexer": "ipython3",
   "version": "3.7.1"
  }
 },
 "nbformat": 4,
 "nbformat_minor": 2
}
